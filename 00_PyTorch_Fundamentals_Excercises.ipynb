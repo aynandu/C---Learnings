{
  "nbformat": 4,
  "nbformat_minor": 0,
  "metadata": {
    "colab": {
      "provenance": [],
      "authorship_tag": "ABX9TyPBt8vafa2JKcWvTrCZ8L4C",
      "include_colab_link": true
    },
    "kernelspec": {
      "name": "python3",
      "display_name": "Python 3"
    },
    "language_info": {
      "name": "python"
    }
  },
  "cells": [
    {
      "cell_type": "markdown",
      "metadata": {
        "id": "view-in-github",
        "colab_type": "text"
      },
      "source": [
        "<a href=\"https://colab.research.google.com/github/aynandu/C-Sharp--Learnings/blob/master/00_PyTorch_Fundamentals_Excercises.ipynb\" target=\"_parent\"><img src=\"https://colab.research.google.com/assets/colab-badge.svg\" alt=\"Open In Colab\"/></a>"
      ]
    },
    {
      "cell_type": "markdown",
      "source": [
        "#00. PyTorch Fundamentals Excercises"
      ],
      "metadata": {
        "id": "HvvxPBicCrR7"
      }
    },
    {
      "cell_type": "code",
      "source": [
        "ṅ"
      ],
      "metadata": {
        "id": "L7ZAKhaNDGdv"
      },
      "execution_count": null,
      "outputs": []
    }
  ]
}